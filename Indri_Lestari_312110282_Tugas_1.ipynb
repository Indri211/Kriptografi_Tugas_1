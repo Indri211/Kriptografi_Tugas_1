{
  "nbformat": 4,
  "nbformat_minor": 0,
  "metadata": {
    "colab": {
      "provenance": [],
      "authorship_tag": "ABX9TyNq28wIwMnnzfR0BQ09f24e",
      "include_colab_link": true
    },
    "kernelspec": {
      "name": "python3",
      "display_name": "Python 3"
    },
    "language_info": {
      "name": "python"
    }
  },
  "cells": [
    {
      "cell_type": "markdown",
      "metadata": {
        "id": "view-in-github",
        "colab_type": "text"
      },
      "source": [
        "<a href=\"https://colab.research.google.com/github/Indri211/Kriptografi_Tugas_1/blob/main/Indri_Lestari_312110282_Tugas_1.ipynb\" target=\"_parent\"><img src=\"https://colab.research.google.com/assets/colab-badge.svg\" alt=\"Open In Colab\"/></a>"
      ]
    },
    {
      "cell_type": "code",
      "execution_count": 2,
      "metadata": {
        "colab": {
          "base_uri": "https://localhost:8080/"
        },
        "id": "staz6EfQot5_",
        "outputId": "4362e234-2e6d-480d-f9f7-18fadc2912b5"
      },
      "outputs": [
        {
          "output_type": "stream",
          "name": "stdout",
          "text": [
            "Masukkan username: indri lestari\n",
            "Masukkan password: indri lestari\n",
            "Login Anda Berhasil!\n",
            "Password terenkripsi di Database: achjq wowrsgm\n",
            "Password terdekripsi di Database: indri lestari\n"
          ]
        }
      ],
      "source": [
        "def encrypt(text, key):\n",
        "    encrypted_text = \"\"\n",
        "    key_length = len(key)\n",
        "    for i in range(len(text)):\n",
        "        char = text[i]\n",
        "        if char.isalpha():\n",
        "            key_char = key[i % key_length]\n",
        "            key_shift = ord(key_char.lower()) - ord('a')\n",
        "            if char.islower():\n",
        "                encrypted_char = chr(((ord(char) - ord('a') + key_shift) % 26) + ord('a'))\n",
        "            else:\n",
        "                encrypted_char = chr(((ord(char) - ord('A') + key_shift) % 26) + ord('A'))\n",
        "            encrypted_text += encrypted_char\n",
        "        else:\n",
        "            encrypted_text += char\n",
        "    return encrypted_text\n",
        "\n",
        "def decrypt(text, key):\n",
        "    decrypted_text = \"\"\n",
        "    key_length = len(key)\n",
        "    for i in range(len(text)):\n",
        "        char = text[i]\n",
        "        if char.isalpha():\n",
        "            key_char = key[i % key_length]\n",
        "            key_shift = ord(key_char.lower()) - ord('a')\n",
        "            if char.islower():\n",
        "                decrypted_char = chr(((ord(char) - ord('a') - key_shift) % 26) + ord('a'))\n",
        "            else:\n",
        "                decrypted_char = chr(((ord(char) - ord('A') - key_shift) % 26) + ord('A'))\n",
        "            decrypted_text += decrypted_char\n",
        "        else:\n",
        "            decrypted_text += char\n",
        "    return decrypted_text\n",
        "\n",
        "\n",
        "def main():\n",
        "    username = \"indri lestari\"\n",
        "    password = \"indri lestari\"\n",
        "    key = \"spesialkey\"\n",
        "    encrypted_password = encrypt(password, key)\n",
        "    database = {\"username\": username, \"password\": encrypted_password}\n",
        "\n",
        "    input_username = input(\"Masukkan username: \")\n",
        "    input_password = input(\"Masukkan password: \")\n",
        "\n",
        "    if input_username == database[\"username\"] and decrypt(database[\"password\"], key) == input_password:\n",
        "        print(\"Login Anda Berhasil!\")\n",
        "        print(f\"Password terenkripsi di Database: {encrypted_password}\")\n",
        "        decrypted_password = decrypt(database[\"password\"], key)\n",
        "        print(f\"Password terdekripsi di Database: {decrypted_password}\")\n",
        "    else:\n",
        "        print(\"Login Anda Gagal!\")\n",
        "\n",
        "if __name__ == \"__main__\":\n",
        "    main()"
      ]
    }
  ]
}